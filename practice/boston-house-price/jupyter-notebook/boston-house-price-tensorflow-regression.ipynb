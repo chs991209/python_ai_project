{
 "nbformat": 4,
 "nbformat_minor": 0,
 "metadata": {
  "colab": {
   "provenance": [],
   "collapsed_sections": [
    "zf6kPM051AuO"
   ],
   "toc_visible": true
  },
  "kernelspec": {
   "name": "python3",
   "display_name": "Python 3 (ipykernel)",
   "language": "python"
  },
  "language_info": {
   "name": "python"
  }
 },
 "cells": [
  {
   "cell_type": "markdown",
   "source": [
    "# 보스턴 주택 가격 데이터셋 회귀 분석\n",
    "\n",
    "이 노트북은 보스턴 주택 가격 데이터셋을 사용하여 회귀 모델을 구축하고 평가하는 과정을 보여줍니다. 단계는 데이터 로드, 전처리, 모델 생성, 학습, 평가 및 결과 시각화를 포함합니다.\n"
   ],
   "metadata": {
    "id": "yiJ-X3190CdB"
   }
  },
  {
   "cell_type": "code",
   "metadata": {
    "id": "6NzOHo33z_SS",
    "colab": {
     "base_uri": "https://localhost:8080/"
    },
    "outputId": "6acf08b2-3f50-4451-fde2-d787960dbbda",
    "ExecuteTime": {
     "end_time": "2024-05-30T12:52:13.028715Z",
     "start_time": "2024-05-30T12:52:13.019172Z"
    }
   },
   "source": [
    "# 필요한 라이브러리 불러오기\n",
    "import tensorflow as tf\n",
    "import numpy as np\n",
    "import matplotlib.pyplot as plt\n",
    "import math\n",
    "from tensorflow.keras.datasets import boston_housing\n",
    "\n",
    "# 폰트 맑은 고딕으로 바꾸기\n",
    "plt.rcParams['text.usetex'] = False\n",
    "plt.rcParams['font.family'] = 'serif'\n",
    "\n",
    "# 보스턴 주택 가격 데이터셋 불러오기\n",
    "(train_X, train_Y), (test_X, test_Y) = boston_housing.load_data()\n",
    "\n",
    "# 학습 및 테스트 샘플 수 출력\n",
    "print(f\"학습 샘플 수: {len(train_X)}\")\n",
    "print(f\"테스트 샘플 수: {len(test_X)}\")\n",
    "\n",
    "# 첫 번째 학습 데이터와 목표 출력\n",
    "print(f\"첫 번째 학습 샘플: {train_X[0]}\")\n",
    "print(f\"첫 번째 학습 목표: {train_Y[0]}\")\n"
   ],
   "outputs": [
    {
     "name": "stdout",
     "output_type": "stream",
     "text": [
      "학습 샘플 수: 404\n",
      "테스트 샘플 수: 102\n",
      "첫 번째 학습 샘플: [  1.23247   0.        8.14      0.        0.538     6.142    91.7\n",
      "   3.9769    4.      307.       21.      396.9      18.72   ]\n",
      "첫 번째 학습 목표: 15.2\n"
     ]
    }
   ],
   "execution_count": 9
  },
  {
   "cell_type": "markdown",
   "source": [
    "## 데이터 전처리 (정규화)\n",
    "\n",
    "특징 및 목표를 정규화하여 평균이 0이고 분산이 1이 되도록 합니다.\n"
   ],
   "metadata": {
    "id": "TdOMYEgY03wu"
   }
  },
  {
   "cell_type": "code",
   "source": [
    "# 특징 정규화\n",
    "x_mean = train_X.mean(axis=0)\n",
    "x_std = train_X.std(axis=0)\n",
    "train_X = (train_X - x_mean) / x_std\n",
    "test_X = (test_X - x_mean) / x_std\n",
    "\n",
    "# 목표 정규화\n",
    "y_mean = train_Y.mean(axis=0)\n",
    "y_std = train_Y.std(axis=0)\n",
    "train_Y = (train_Y - y_mean) / y_std\n",
    "test_Y = (test_Y - y_mean) / y_std\n",
    "\n",
    "# 첫 번째 정규화된 학습 샘플 및 목표 출력\n",
    "print(f\"첫 번째 정규화된 학습 샘플: {train_X[0]}\")\n",
    "print(f\"첫 번째 정규화된 학습 목표: {train_Y[0]}\")\n"
   ],
   "metadata": {
    "colab": {
     "base_uri": "https://localhost:8080/"
    },
    "id": "60gHsDcO07DG",
    "outputId": "e8cd31e4-9bf5-4a2a-b9e4-98843699a817",
    "ExecuteTime": {
     "end_time": "2024-05-30T12:52:33.649057Z",
     "start_time": "2024-05-30T12:52:33.644248Z"
    }
   },
   "outputs": [
    {
     "name": "stdout",
     "output_type": "stream",
     "text": [
      "첫 번째 정규화된 학습 샘플: [-0.27224633 -0.48361547 -0.43576161 -0.25683275 -0.1652266  -0.1764426\n",
      "  0.81306188  0.1166983  -0.62624905 -0.59517003  1.14850044  0.44807713\n",
      "  0.8252202 ]\n",
      "첫 번째 정규화된 학습 목표: -0.7821526033779157\n"
     ]
    }
   ],
   "execution_count": 10
  },
  {
   "cell_type": "markdown",
   "source": [
    "## 회귀 모델 생성\n",
    "\n",
    "세 개의 은닉층을 갖는 TensorFlow Keras 회귀 모델을 구축합니다.\n"
   ],
   "metadata": {
    "id": "zf6kPM051AuO"
   }
  },
  {
   "cell_type": "code",
   "source": [
    "# 회귀 모델 생성\n",
    "model = tf.keras.Sequential([\n",
    "    tf.keras.layers.Dense(units=52, activation='relu', input_shape=(13,)),\n",
    "    tf.keras.layers.Dense(units=39, activation='relu'),\n",
    "    tf.keras.layers.Dense(units=26, activation='relu'),\n",
    "    tf.keras.layers.Dense(units=1)\n",
    "])\n",
    "\n",
    "# 모델 컴파일\n",
    "model.compile(optimizer=tf.keras.optimizers.Adam(learning_rate=0.07), loss='mse')\n",
    "\n",
    "# 모델 요약 출력\n",
    "model.summary()\n"
   ],
   "metadata": {
    "colab": {
     "base_uri": "https://localhost:8080/"
    },
    "id": "NJQR5ht41H5E",
    "outputId": "362c523b-2fcd-4ba1-a4bd-3f7986bd5b78",
    "ExecuteTime": {
     "end_time": "2024-05-30T13:01:54.445200Z",
     "start_time": "2024-05-30T13:01:54.411362Z"
    }
   },
   "outputs": [
    {
     "data": {
      "text/plain": [
       "\u001B[1mModel: \"sequential_6\"\u001B[0m\n"
      ],
      "text/html": [
       "<pre style=\"white-space:pre;overflow-x:auto;line-height:normal;font-family:Menlo,'DejaVu Sans Mono',consolas,'Courier New',monospace\"><span style=\"font-weight: bold\">Model: \"sequential_6\"</span>\n",
       "</pre>\n"
      ]
     },
     "metadata": {},
     "output_type": "display_data"
    },
    {
     "data": {
      "text/plain": [
       "┏━━━━━━━━━━━━━━━━━━━━━━━━━━━━━━━━━┳━━━━━━━━━━━━━━━━━━━━━━━━┳━━━━━━━━━━━━━━━┓\n",
       "┃\u001B[1m \u001B[0m\u001B[1mLayer (type)                   \u001B[0m\u001B[1m \u001B[0m┃\u001B[1m \u001B[0m\u001B[1mOutput Shape          \u001B[0m\u001B[1m \u001B[0m┃\u001B[1m \u001B[0m\u001B[1m      Param #\u001B[0m\u001B[1m \u001B[0m┃\n",
       "┡━━━━━━━━━━━━━━━━━━━━━━━━━━━━━━━━━╇━━━━━━━━━━━━━━━━━━━━━━━━╇━━━━━━━━━━━━━━━┩\n",
       "│ dense_24 (\u001B[38;5;33mDense\u001B[0m)                │ (\u001B[38;5;45mNone\u001B[0m, \u001B[38;5;34m52\u001B[0m)             │           \u001B[38;5;34m728\u001B[0m │\n",
       "├─────────────────────────────────┼────────────────────────┼───────────────┤\n",
       "│ dense_25 (\u001B[38;5;33mDense\u001B[0m)                │ (\u001B[38;5;45mNone\u001B[0m, \u001B[38;5;34m39\u001B[0m)             │         \u001B[38;5;34m2,067\u001B[0m │\n",
       "├─────────────────────────────────┼────────────────────────┼───────────────┤\n",
       "│ dense_26 (\u001B[38;5;33mDense\u001B[0m)                │ (\u001B[38;5;45mNone\u001B[0m, \u001B[38;5;34m26\u001B[0m)             │         \u001B[38;5;34m1,040\u001B[0m │\n",
       "├─────────────────────────────────┼────────────────────────┼───────────────┤\n",
       "│ dense_27 (\u001B[38;5;33mDense\u001B[0m)                │ (\u001B[38;5;45mNone\u001B[0m, \u001B[38;5;34m1\u001B[0m)              │            \u001B[38;5;34m27\u001B[0m │\n",
       "└─────────────────────────────────┴────────────────────────┴───────────────┘\n"
      ],
      "text/html": [
       "<pre style=\"white-space:pre;overflow-x:auto;line-height:normal;font-family:Menlo,'DejaVu Sans Mono',consolas,'Courier New',monospace\">┏━━━━━━━━━━━━━━━━━━━━━━━━━━━━━━━━━┳━━━━━━━━━━━━━━━━━━━━━━━━┳━━━━━━━━━━━━━━━┓\n",
       "┃<span style=\"font-weight: bold\"> Layer (type)                    </span>┃<span style=\"font-weight: bold\"> Output Shape           </span>┃<span style=\"font-weight: bold\">       Param # </span>┃\n",
       "┡━━━━━━━━━━━━━━━━━━━━━━━━━━━━━━━━━╇━━━━━━━━━━━━━━━━━━━━━━━━╇━━━━━━━━━━━━━━━┩\n",
       "│ dense_24 (<span style=\"color: #0087ff; text-decoration-color: #0087ff\">Dense</span>)                │ (<span style=\"color: #00d7ff; text-decoration-color: #00d7ff\">None</span>, <span style=\"color: #00af00; text-decoration-color: #00af00\">52</span>)             │           <span style=\"color: #00af00; text-decoration-color: #00af00\">728</span> │\n",
       "├─────────────────────────────────┼────────────────────────┼───────────────┤\n",
       "│ dense_25 (<span style=\"color: #0087ff; text-decoration-color: #0087ff\">Dense</span>)                │ (<span style=\"color: #00d7ff; text-decoration-color: #00d7ff\">None</span>, <span style=\"color: #00af00; text-decoration-color: #00af00\">39</span>)             │         <span style=\"color: #00af00; text-decoration-color: #00af00\">2,067</span> │\n",
       "├─────────────────────────────────┼────────────────────────┼───────────────┤\n",
       "│ dense_26 (<span style=\"color: #0087ff; text-decoration-color: #0087ff\">Dense</span>)                │ (<span style=\"color: #00d7ff; text-decoration-color: #00d7ff\">None</span>, <span style=\"color: #00af00; text-decoration-color: #00af00\">26</span>)             │         <span style=\"color: #00af00; text-decoration-color: #00af00\">1,040</span> │\n",
       "├─────────────────────────────────┼────────────────────────┼───────────────┤\n",
       "│ dense_27 (<span style=\"color: #0087ff; text-decoration-color: #0087ff\">Dense</span>)                │ (<span style=\"color: #00d7ff; text-decoration-color: #00d7ff\">None</span>, <span style=\"color: #00af00; text-decoration-color: #00af00\">1</span>)              │            <span style=\"color: #00af00; text-decoration-color: #00af00\">27</span> │\n",
       "└─────────────────────────────────┴────────────────────────┴───────────────┘\n",
       "</pre>\n"
      ]
     },
     "metadata": {},
     "output_type": "display_data"
    },
    {
     "data": {
      "text/plain": [
       "\u001B[1m Total params: \u001B[0m\u001B[38;5;34m3,862\u001B[0m (15.09 KB)\n"
      ],
      "text/html": [
       "<pre style=\"white-space:pre;overflow-x:auto;line-height:normal;font-family:Menlo,'DejaVu Sans Mono',consolas,'Courier New',monospace\"><span style=\"font-weight: bold\"> Total params: </span><span style=\"color: #00af00; text-decoration-color: #00af00\">3,862</span> (15.09 KB)\n",
       "</pre>\n"
      ]
     },
     "metadata": {},
     "output_type": "display_data"
    },
    {
     "data": {
      "text/plain": [
       "\u001B[1m Trainable params: \u001B[0m\u001B[38;5;34m3,862\u001B[0m (15.09 KB)\n"
      ],
      "text/html": [
       "<pre style=\"white-space:pre;overflow-x:auto;line-height:normal;font-family:Menlo,'DejaVu Sans Mono',consolas,'Courier New',monospace\"><span style=\"font-weight: bold\"> Trainable params: </span><span style=\"color: #00af00; text-decoration-color: #00af00\">3,862</span> (15.09 KB)\n",
       "</pre>\n"
      ]
     },
     "metadata": {},
     "output_type": "display_data"
    },
    {
     "data": {
      "text/plain": [
       "\u001B[1m Non-trainable params: \u001B[0m\u001B[38;5;34m0\u001B[0m (0.00 B)\n"
      ],
      "text/html": [
       "<pre style=\"white-space:pre;overflow-x:auto;line-height:normal;font-family:Menlo,'DejaVu Sans Mono',consolas,'Courier New',monospace\"><span style=\"font-weight: bold\"> Non-trainable params: </span><span style=\"color: #00af00; text-decoration-color: #00af00\">0</span> (0.00 B)\n",
       "</pre>\n"
      ]
     },
     "metadata": {},
     "output_type": "display_data"
    }
   ],
   "execution_count": 13
  },
  {
   "cell_type": "markdown",
   "source": [
    "## 활성화 함수 비교 시각화\n",
    "\n",
    "sigmoid, tanh 및 ReLU 활성화 함수의 차이점을 시각화합니다.\n"
   ],
   "metadata": {
    "id": "DCqXSFyS1Odc"
   }
  },
  {
   "cell_type": "code",
   "source": [
    "# sigmoid 함수 정의\n",
    "def sigmoid(x):\n",
    "    return 1 / (1 + math.exp(-x))\n",
    "\n",
    "# x 값 범위 정의\n",
    "x = np.arange(-5, 5, 0.01)\n",
    "sigmoid_x = [sigmoid(z) for z in x]\n",
    "tanh_x = [math.tanh(z) for z in x]\n",
    "relu = [0 if z < 0 else z for z in x]\n",
    "\n",
    "# 활성화 함수 시각화\n",
    "plt.axhline(0, color='gray')\n",
    "plt.axvline(0, color='gray')\n",
    "plt.plot(x, sigmoid_x, 'b-', label='sigmoid')\n",
    "plt.plot(x, tanh_x, 'r--', label='tanh')\n",
    "plt.plot(x, relu, 'g.', label='relu')\n",
    "plt.legend()\n",
    "plt.show()\n",
    "\n",
    "# 학습시키지 않은 데이터로 val_acc"
   ],
   "metadata": {
    "colab": {
     "base_uri": "https://localhost:8080/",
     "height": 430
    },
    "id": "-eV0F0oE1RVQ",
    "outputId": "7952bf56-8384-45f5-98e0-3c3e2f0a622e",
    "ExecuteTime": {
     "end_time": "2024-05-30T13:01:56.631371Z",
     "start_time": "2024-05-30T13:01:56.476443Z"
    }
   },
   "outputs": [
    {
     "data": {
      "text/plain": [
       "<Figure size 640x480 with 1 Axes>"
      ],
      "image/png": "[encoded data removed]"
     },
     "metadata": {},
     "output_type": "display_data"
    }
   ],
   "execution_count": 14
  },
  {
   "cell_type": "markdown",
   "source": [
    "## 회귀 모델 학습\n",
    "\n",
    "회귀 모델을 학습시킵니다.\n"
   ],
   "metadata": {
    "id": "HhYUiykS1bi0"
   }
  },
  {
   "cell_type": "code",
   "source": [
    "# 회귀 모델 학습\n",
    "history = model.fit(train_X, train_Y, epochs=25, batch_size=32, validation_split=0.25)\n"
   ],
   "metadata": {
    "colab": {
     "base_uri": "https://localhost:8080/"
    },
    "id": "6kjJvbGM1iK5",
    "outputId": "a4d25cf4-2ce7-4206-bf6a-d7fa19c401ec",
    "ExecuteTime": {
     "end_time": "2024-05-30T13:02:02.279773Z",
     "start_time": "2024-05-30T13:02:01.161469Z"
    }
   },
   "outputs": [
    {
     "name": "stdout",
     "output_type": "stream",
     "text": [
      "Epoch 1/25\n",
      "\u001B[1m10/10\u001B[0m \u001B[32m━━━━━━━━━━━━━━━━━━━━\u001B[0m\u001B[37m\u001B[0m \u001B[1m1s\u001B[0m 6ms/step - loss: 4.2876 - val_loss: 1.1245\n",
      "Epoch 2/25\n",
      "\u001B[1m10/10\u001B[0m \u001B[32m━━━━━━━━━━━━━━━━━━━━\u001B[0m\u001B[37m\u001B[0m \u001B[1m0s\u001B[0m 2ms/step - loss: 0.5505 - val_loss: 0.8512\n",
      "Epoch 3/25\n",
      "\u001B[1m10/10\u001B[0m \u001B[32m━━━━━━━━━━━━━━━━━━━━\u001B[0m\u001B[37m\u001B[0m \u001B[1m0s\u001B[0m 1ms/step - loss: 0.4854 - val_loss: 0.4941\n",
      "Epoch 4/25\n",
      "\u001B[1m10/10\u001B[0m \u001B[32m━━━━━━━━━━━━━━━━━━━━\u001B[0m\u001B[37m\u001B[0m \u001B[1m0s\u001B[0m 2ms/step - loss: 0.3209 - val_loss: 0.5279\n",
      "Epoch 5/25\n",
      "\u001B[1m10/10\u001B[0m \u001B[32m━━━━━━━━━━━━━━━━━━━━\u001B[0m\u001B[37m\u001B[0m \u001B[1m0s\u001B[0m 1ms/step - loss: 0.3062 - val_loss: 0.3977\n",
      "Epoch 6/25\n",
      "\u001B[1m10/10\u001B[0m \u001B[32m━━━━━━━━━━━━━━━━━━━━\u001B[0m\u001B[37m\u001B[0m \u001B[1m0s\u001B[0m 2ms/step - loss: 0.2946 - val_loss: 0.5221\n",
      "Epoch 7/25\n",
      "\u001B[1m10/10\u001B[0m \u001B[32m━━━━━━━━━━━━━━━━━━━━\u001B[0m\u001B[37m\u001B[0m \u001B[1m0s\u001B[0m 1ms/step - loss: 0.2527 - val_loss: 0.3360\n",
      "Epoch 8/25\n",
      "\u001B[1m10/10\u001B[0m \u001B[32m━━━━━━━━━━━━━━━━━━━━\u001B[0m\u001B[37m\u001B[0m \u001B[1m0s\u001B[0m 2ms/step - loss: 0.1466 - val_loss: 0.2142\n",
      "Epoch 9/25\n",
      "\u001B[1m10/10\u001B[0m \u001B[32m━━━━━━━━━━━━━━━━━━━━\u001B[0m\u001B[37m\u001B[0m \u001B[1m0s\u001B[0m 2ms/step - loss: 0.1957 - val_loss: 0.3110\n",
      "Epoch 10/25\n",
      "\u001B[1m10/10\u001B[0m \u001B[32m━━━━━━━━━━━━━━━━━━━━\u001B[0m\u001B[37m\u001B[0m \u001B[1m0s\u001B[0m 1ms/step - loss: 0.1792 - val_loss: 0.1381\n",
      "Epoch 11/25\n",
      "\u001B[1m10/10\u001B[0m \u001B[32m━━━━━━━━━━━━━━━━━━━━\u001B[0m\u001B[37m\u001B[0m \u001B[1m0s\u001B[0m 1ms/step - loss: 0.1158 - val_loss: 0.1964\n",
      "Epoch 12/25\n",
      "\u001B[1m10/10\u001B[0m \u001B[32m━━━━━━━━━━━━━━━━━━━━\u001B[0m\u001B[37m\u001B[0m \u001B[1m0s\u001B[0m 1ms/step - loss: 0.1254 - val_loss: 0.1865\n",
      "Epoch 13/25\n",
      "\u001B[1m10/10\u001B[0m \u001B[32m━━━━━━━━━━━━━━━━━━━━\u001B[0m\u001B[37m\u001B[0m \u001B[1m0s\u001B[0m 1ms/step - loss: 0.0912 - val_loss: 0.1714\n",
      "Epoch 14/25\n",
      "\u001B[1m10/10\u001B[0m \u001B[32m━━━━━━━━━━━━━━━━━━━━\u001B[0m\u001B[37m\u001B[0m \u001B[1m0s\u001B[0m 1ms/step - loss: 0.1127 - val_loss: 0.1708\n",
      "Epoch 15/25\n",
      "\u001B[1m10/10\u001B[0m \u001B[32m━━━━━━━━━━━━━━━━━━━━\u001B[0m\u001B[37m\u001B[0m \u001B[1m0s\u001B[0m 1ms/step - loss: 0.0991 - val_loss: 0.1783\n",
      "Epoch 16/25\n",
      "\u001B[1m10/10\u001B[0m \u001B[32m━━━━━━━━━━━━━━━━━━━━\u001B[0m\u001B[37m\u001B[0m \u001B[1m0s\u001B[0m 1ms/step - loss: 0.0695 - val_loss: 0.1408\n",
      "Epoch 17/25\n",
      "\u001B[1m10/10\u001B[0m \u001B[32m━━━━━━━━━━━━━━━━━━━━\u001B[0m\u001B[37m\u001B[0m \u001B[1m0s\u001B[0m 1ms/step - loss: 0.0750 - val_loss: 0.1316\n",
      "Epoch 18/25\n",
      "\u001B[1m10/10\u001B[0m \u001B[32m━━━━━━━━━━━━━━━━━━━━\u001B[0m\u001B[37m\u001B[0m \u001B[1m0s\u001B[0m 1ms/step - loss: 0.0924 - val_loss: 0.1841\n",
      "Epoch 19/25\n",
      "\u001B[1m10/10\u001B[0m \u001B[32m━━━━━━━━━━━━━━━━━━━━\u001B[0m\u001B[37m\u001B[0m \u001B[1m0s\u001B[0m 1ms/step - loss: 0.1156 - val_loss: 0.2301\n",
      "Epoch 20/25\n",
      "\u001B[1m10/10\u001B[0m \u001B[32m━━━━━━━━━━━━━━━━━━━━\u001B[0m\u001B[37m\u001B[0m \u001B[1m0s\u001B[0m 1ms/step - loss: 0.0921 - val_loss: 0.1742\n",
      "Epoch 21/25\n",
      "\u001B[1m10/10\u001B[0m \u001B[32m━━━━━━━━━━━━━━━━━━━━\u001B[0m\u001B[37m\u001B[0m \u001B[1m0s\u001B[0m 1ms/step - loss: 0.1008 - val_loss: 0.2163\n",
      "Epoch 22/25\n",
      "\u001B[1m10/10\u001B[0m \u001B[32m━━━━━━━━━━━━━━━━━━━━\u001B[0m\u001B[37m\u001B[0m \u001B[1m0s\u001B[0m 1ms/step - loss: 0.1394 - val_loss: 0.1495\n",
      "Epoch 23/25\n",
      "\u001B[1m10/10\u001B[0m \u001B[32m━━━━━━━━━━━━━━━━━━━━\u001B[0m\u001B[37m\u001B[0m \u001B[1m0s\u001B[0m 1ms/step - loss: 0.1011 - val_loss: 0.1991\n",
      "Epoch 24/25\n",
      "\u001B[1m10/10\u001B[0m \u001B[32m━━━━━━━━━━━━━━━━━━━━\u001B[0m\u001B[37m\u001B[0m \u001B[1m0s\u001B[0m 1ms/step - loss: 0.0867 - val_loss: 0.1590\n",
      "Epoch 25/25\n",
      "\u001B[1m10/10\u001B[0m \u001B[32m━━━━━━━━━━━━━━━━━━━━\u001B[0m\u001B[37m\u001B[0m \u001B[1m0s\u001B[0m 1ms/step - loss: 0.0779 - val_loss: 0.1943\n"
     ]
    }
   ],
   "execution_count": 15
  },
  {
   "cell_type": "markdown",
   "source": [
    "## 회귀 모델 학습 결과 시각화\n",
    "\n",
    "학습 손실 및 검증 손실을 시각화합니다.\n"
   ],
   "metadata": {
    "id": "zNJvpCa51mxY"
   }
  },
  {
   "cell_type": "code",
   "source": [
    "# 학습 결과 시각화\n",
    "plt.plot(history.history['loss'], 'b-', label='loss')\n",
    "plt.plot(history.history['val_loss'], 'r--', label='val_loss')\n",
    "plt.xlabel('Epoch')\n",
    "plt.legend()\n",
    "plt.show()\n"
   ],
   "metadata": {
    "colab": {
     "base_uri": "https://localhost:8080/",
     "height": 449
    },
    "id": "-c0BwdeF1nh2",
    "outputId": "563f3222-ea91-43dc-f1e9-668ee1f0a645",
    "ExecuteTime": {
     "end_time": "2024-05-30T13:02:05.632764Z",
     "start_time": "2024-05-30T13:02:05.555954Z"
    }
   },
   "outputs": [
    {
     "data": {
      "text/plain": [
       "<Figure size 640x480 with 1 Axes>"
      ],
      "image/png": "[encoded data removed]"
     },
     "metadata": {},
     "output_type": "display_data"
    }
   ],
   "execution_count": 16
  },
  {
   "cell_type": "markdown",
   "source": [
    "## 회귀 모델 평가\n",
    "\n",
    "테스트 데이터셋을 사용하여 모델을 평가합니다.\n"
   ],
   "metadata": {
    "id": "mq-uPNiW1r6B"
   }
  },
  {
   "cell_type": "code",
   "source": [
    "# 모델 평가\n",
    "model.evaluate(test_X, test_Y)\n"
   ],
   "metadata": {
    "colab": {
     "base_uri": "https://localhost:8080/"
    },
    "id": "vfhypEWK1wV0",
    "outputId": "c2562537-4020-48ae-b0f8-568eb33889f7",
    "ExecuteTime": {
     "end_time": "2024-05-30T13:02:16.517403Z",
     "start_time": "2024-05-30T13:02:16.480596Z"
    }
   },
   "outputs": [
    {
     "name": "stdout",
     "output_type": "stream",
     "text": [
      "\u001B[1m4/4\u001B[0m \u001B[32m━━━━━━━━━━━━━━━━━━━━\u001B[0m\u001B[37m\u001B[0m \u001B[1m0s\u001B[0m 812us/step - loss: 0.1604\n"
     ]
    },
    {
     "data": {
      "text/plain": [
       "0.21114042401313782"
      ]
     },
     "execution_count": 17,
     "metadata": {},
     "output_type": "execute_result"
    }
   ],
   "execution_count": 17
  },
  {
   "cell_type": "markdown",
   "source": [
    "## 실제 주택 가격과 예측 주택 가격 시각화\n",
    "\n",
    "테스트 데이터셋에서 실제 주택 가격과 모델이 예측한 주택 가격을 시각화합니다.\n"
   ],
   "metadata": {
    "id": "Rh57jLHr14zH"
   }
  },
  {
   "cell_type": "code",
   "source": [
    "# 예측 수행\n",
    "pred_Y = model.predict(test_X)\n",
    "\n",
    "# 실제 주택 가격과 예측 주택 가격 시각화\n",
    "plt.figure(figsize=(5, 5))\n",
    "plt.plot(test_Y, pred_Y, 'b.')\n",
    "plt.axis([min(test_Y), max(test_Y), min(test_Y), max(test_Y)])\n",
    "\n",
    "# y=x에 해당하는 대각선\n",
    "plt.plot([min(test_Y), max(test_Y)], [min(test_Y), max(test_Y)], ls=\"--\", c=\".3\")\n",
    "# plt.xlabel('실제 주택 가격')\n",
    "plt.xlabel('Real House Price')\n",
    "plt.ylabel('Estimated House Price(Inference)')\n",
    "plt.show()\n"
   ],
   "metadata": {
    "colab": {
     "base_uri": "https://localhost:8080/",
     "height": 487
    },
    "id": "4sfM_uiu13_-",
    "outputId": "843da335-dd20-4a37-8a23-87082fac759c",
    "ExecuteTime": {
     "end_time": "2024-05-30T13:02:19.389177Z",
     "start_time": "2024-05-30T13:02:19.278364Z"
    }
   },
   "outputs": [
    {
     "name": "stdout",
     "output_type": "stream",
     "text": [
      "\u001B[1m4/4\u001B[0m \u001B[32m━━━━━━━━━━━━━━━━━━━━\u001B[0m\u001B[37m\u001B[0m \u001B[1m0s\u001B[0m 5ms/step \n"
     ]
    },
    {
     "data": {
      "text/plain": [
       "<Figure size 500x500 with 1 Axes>"
      ],
      "image/png": "[encoded data removed]"
     },
     "metadata": {},
     "output_type": "display_data"
    }
   ],
   "execution_count": 18
  },
  {
   "cell_type": "markdown",
   "source": [
    "## 모델 재정의 및 학습\n",
    "\n",
    "초기 중지 콜백을 사용하여 모델을 재정의하고 학습시킵니다.\n"
   ],
   "metadata": {
    "id": "ItM65Gnx2IYo"
   }
  },
  {
   "cell_type": "code",
   "source": [
    "# 모델 재정의\n",
    "model = tf.keras.Sequential([\n",
    "    tf.keras.layers.Dense(units=52, activation='relu', input_shape=(13,)),\n",
    "    tf.keras.layers.Dense(units=39, activation='relu'),\n",
    "    tf.keras.layers.Dense(units=26, activation='relu'),\n",
    "    tf.keras.layers.Dense(units=1)\n",
    "])\n",
    "\n",
    "# 모델 컴파일\n",
    "model.compile(optimizer=tf.keras.optimizers.Adam(learning_rate=0.07), loss='mse')\n",
    "\n",
    "# 모델 학습\n",
    "history = model.fit(train_X, train_Y, epochs=25, batch_size=32, validation_split=0.25,\n",
    "                    callbacks=[tf.keras.callbacks.EarlyStopping(patience=3, monitor='val_loss')])\n"
   ],
   "metadata": {
    "colab": {
     "base_uri": "https://localhost:8080/"
    },
    "id": "zY-AuvfG2N98",
    "outputId": "820a6991-495a-4a92-9162-82c522a418eb",
    "ExecuteTime": {
     "end_time": "2024-05-30T13:02:30.024603Z",
     "start_time": "2024-05-30T13:02:29.367387Z"
    }
   },
   "outputs": [
    {
     "name": "stdout",
     "output_type": "stream",
     "text": [
      "Epoch 1/25\n",
      "\u001B[1m10/10\u001B[0m \u001B[32m━━━━━━━━━━━━━━━━━━━━\u001B[0m\u001B[37m\u001B[0m \u001B[1m0s\u001B[0m 6ms/step - loss: 3.8429 - val_loss: 1.0049\n",
      "Epoch 2/25\n",
      "\u001B[1m10/10\u001B[0m \u001B[32m━━━━━━━━━━━━━━━━━━━━\u001B[0m\u001B[37m\u001B[0m \u001B[1m0s\u001B[0m 1ms/step - loss: 0.5682 - val_loss: 0.3966\n",
      "Epoch 3/25\n",
      "\u001B[1m10/10\u001B[0m \u001B[32m━━━━━━━━━━━━━━━━━━━━\u001B[0m\u001B[37m\u001B[0m \u001B[1m0s\u001B[0m 1ms/step - loss: 0.2885 - val_loss: 0.3222\n",
      "Epoch 4/25\n",
      "\u001B[1m10/10\u001B[0m \u001B[32m━━━━━━━━━━━━━━━━━━━━\u001B[0m\u001B[37m\u001B[0m \u001B[1m0s\u001B[0m 1ms/step - loss: 0.1741 - val_loss: 0.2090\n",
      "Epoch 5/25\n",
      "\u001B[1m10/10\u001B[0m \u001B[32m━━━━━━━━━━━━━━━━━━━━\u001B[0m\u001B[37m\u001B[0m \u001B[1m0s\u001B[0m 1ms/step - loss: 0.1740 - val_loss: 0.2231\n",
      "Epoch 6/25\n",
      "\u001B[1m10/10\u001B[0m \u001B[32m━━━━━━━━━━━━━━━━━━━━\u001B[0m\u001B[37m\u001B[0m \u001B[1m0s\u001B[0m 1ms/step - loss: 0.1541 - val_loss: 0.1694\n",
      "Epoch 7/25\n",
      "\u001B[1m10/10\u001B[0m \u001B[32m━━━━━━━━━━━━━━━━━━━━\u001B[0m\u001B[37m\u001B[0m \u001B[1m0s\u001B[0m 2ms/step - loss: 0.0956 - val_loss: 0.1600\n",
      "Epoch 8/25\n",
      "\u001B[1m10/10\u001B[0m \u001B[32m━━━━━━━━━━━━━━━━━━━━\u001B[0m\u001B[37m\u001B[0m \u001B[1m0s\u001B[0m 2ms/step - loss: 0.1322 - val_loss: 0.1902\n",
      "Epoch 9/25\n",
      "\u001B[1m10/10\u001B[0m \u001B[32m━━━━━━━━━━━━━━━━━━━━\u001B[0m\u001B[37m\u001B[0m \u001B[1m0s\u001B[0m 1ms/step - loss: 0.1379 - val_loss: 0.1837\n",
      "Epoch 10/25\n",
      "\u001B[1m10/10\u001B[0m \u001B[32m━━━━━━━━━━━━━━━━━━━━\u001B[0m\u001B[37m\u001B[0m \u001B[1m0s\u001B[0m 1ms/step - loss: 0.1147 - val_loss: 0.1363\n",
      "Epoch 11/25\n",
      "\u001B[1m10/10\u001B[0m \u001B[32m━━━━━━━━━━━━━━━━━━━━\u001B[0m\u001B[37m\u001B[0m \u001B[1m0s\u001B[0m 1ms/step - loss: 0.0860 - val_loss: 0.1283\n",
      "Epoch 12/25\n",
      "\u001B[1m10/10\u001B[0m \u001B[32m━━━━━━━━━━━━━━━━━━━━\u001B[0m\u001B[37m\u001B[0m \u001B[1m0s\u001B[0m 1ms/step - loss: 0.0847 - val_loss: 0.1435\n",
      "Epoch 13/25\n",
      "\u001B[1m10/10\u001B[0m \u001B[32m━━━━━━━━━━━━━━━━━━━━\u001B[0m\u001B[37m\u001B[0m \u001B[1m0s\u001B[0m 1ms/step - loss: 0.1027 - val_loss: 0.1441\n",
      "Epoch 14/25\n",
      "\u001B[1m10/10\u001B[0m \u001B[32m━━━━━━━━━━━━━━━━━━━━\u001B[0m\u001B[37m\u001B[0m \u001B[1m0s\u001B[0m 1ms/step - loss: 0.0985 - val_loss: 0.1852\n"
     ]
    }
   ],
   "execution_count": 20
  },
  {
   "cell_type": "markdown",
   "source": [
    "## 회귀 모델 학습 결과 시각화 (재학습 후)\n",
    "\n",
    "재학습 후 학습 손실 및 검증 손실을 시각화합니다."
   ],
   "metadata": {
    "id": "5ZD0MzQu2ZZI"
   }
  },
  {
   "cell_type": "code",
   "source": [
    "# 학습 결과 시각화 (재학습 후)\n",
    "plt.plot(history.history['loss'], 'b-', label='loss')\n",
    "plt.plot(history.history['val_loss'], 'r--', label='val_loss')\n",
    "plt.xlabel('Epoch')\n",
    "plt.legend()\n",
    "plt.show()\n"
   ],
   "metadata": {
    "colab": {
     "base_uri": "https://localhost:8080/",
     "height": 449
    },
    "id": "9GQ0S2bH2dTU",
    "outputId": "5c20878b-2227-43aa-d122-b5340ae5b05a",
    "ExecuteTime": {
     "end_time": "2024-05-30T13:02:33.122859Z",
     "start_time": "2024-05-30T13:02:33.047393Z"
    }
   },
   "outputs": [
    {
     "data": {
      "text/plain": [
       "<Figure size 640x480 with 1 Axes>"
      ],
      "image/png": "[encoded data removed]"
     },
     "metadata": {},
     "output_type": "display_data"
    }
   ],
   "execution_count": 21
  },
  {
   "cell_type": "markdown",
   "source": [
    "## 회귀 모델 평가 (재학습 후)\n",
    "\n",
    "테스트 데이터셋을 사용하여 재학습한 모델을 평가합니다.\n"
   ],
   "metadata": {
    "id": "TyxkQNk22m-L"
   }
  },
  {
   "cell_type": "code",
   "source": [
    "# 모델 평가 (재학습 후)\n",
    "model.evaluate(test_X, test_Y)\n"
   ],
   "metadata": {
    "colab": {
     "base_uri": "https://localhost:8080/"
    },
    "id": "TbG59EfS2lqd",
    "outputId": "661670a7-c44c-4c10-e147-50d4f6545e05",
    "ExecuteTime": {
     "end_time": "2024-05-30T13:02:35.177218Z",
     "start_time": "2024-05-30T13:02:35.143303Z"
    }
   },
   "outputs": [
    {
     "name": "stdout",
     "output_type": "stream",
     "text": [
      "\u001B[1m4/4\u001B[0m \u001B[32m━━━━━━━━━━━━━━━━━━━━\u001B[0m\u001B[37m\u001B[0m \u001B[1m0s\u001B[0m 756us/step - loss: 0.2172\n"
     ]
    },
    {
     "data": {
      "text/plain": [
       "0.30404409766197205"
      ]
     },
     "execution_count": 22,
     "metadata": {},
     "output_type": "execute_result"
    }
   ],
   "execution_count": 22
  },
  {
   "cell_type": "markdown",
   "source": [
    "## 실제 주택 가격과 예측 주택 가격 시각화 (재학습 후)\n",
    "\n",
    "재학습한 모델의 테스트 데이터셋에서 실제 주택 가격과 예측 주택 가격을 시각화합니다.\n"
   ],
   "metadata": {
    "id": "ArWaFoMr2rFH"
   }
  },
  {
   "cell_type": "code",
   "source": [
    "# 예측 수행 (재학습 후)\n",
    "pred_Y = model.predict(test_X)\n",
    "\n",
    "# 실제 주택 가격과 예측 주택 가격 시각화 (재학습 후)\n",
    "plt.figure(figsize=(5, 5))\n",
    "plt.plot(test_Y, pred_Y, 'b.')\n",
    "plt.axis([min(test_Y), max(test_Y), min(test_Y), max(test_Y)])\n",
    "\n",
    "# y=x에 해당하는 대각선\n",
    "plt.plot([min(test_Y), max(test_Y)], [min(test_Y), max(test_Y)], ls=\"--\", c=\".3\")\n",
    "plt.xlabel('Real House Price')\n",
    "plt.ylabel('Estimated House Price(Inference)')\n",
    "plt.show()\n"
   ],
   "metadata": {
    "colab": {
     "base_uri": "https://localhost:8080/",
     "height": 487
    },
    "id": "qAk3H57Y2uoi",
    "outputId": "ee1c3c89-64f2-46fc-f646-fc55f135a6b2",
    "ExecuteTime": {
     "end_time": "2024-05-30T13:02:36.787144Z",
     "start_time": "2024-05-30T13:02:36.676876Z"
    }
   },
   "outputs": [
    {
     "name": "stdout",
     "output_type": "stream",
     "text": [
      "\u001B[1m4/4\u001B[0m \u001B[32m━━━━━━━━━━━━━━━━━━━━\u001B[0m\u001B[37m\u001B[0m \u001B[1m0s\u001B[0m 5ms/step \n"
     ]
    },
    {
     "data": {
      "text/plain": [
       "<Figure size 500x500 with 1 Axes>"
      ],
      "image/png": "[encoded data removed]"
     },
     "metadata": {},
     "output_type": "display_data"
    }
   ],
   "execution_count": 23
  }
 ]
}
